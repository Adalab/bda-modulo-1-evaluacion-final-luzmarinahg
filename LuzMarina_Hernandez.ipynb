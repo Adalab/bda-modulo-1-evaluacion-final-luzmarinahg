{
 "cells": [
  {
   "cell_type": "code",
   "execution_count": 46,
   "metadata": {},
   "outputs": [
    {
     "ename": "IndentationError",
     "evalue": "expected an indented block after 'for' statement on line 29 (3749260897.py, line 32)",
     "output_type": "error",
     "traceback": [
      "\u001b[1;36m  Cell \u001b[1;32mIn[46], line 32\u001b[1;36m\u001b[0m\n\u001b[1;33m    def eliminar_producto(self, nombre):  #5.Elimina un producto del inventario por nombre\u001b[0m\n\u001b[1;37m    ^\u001b[0m\n\u001b[1;31mIndentationError\u001b[0m\u001b[1;31m:\u001b[0m expected an indented block after 'for' statement on line 29\n"
     ]
    }
   ],
   "source": [
    "#Creamos una clase llamada TiendaOnline\n",
    "class TiendaOnline:\n",
    "    def __init__(self):\n",
    "        self.inventario = []\n",
    "        self.clientes = {}\n",
    "        self.ventas_totales = 0\n",
    "        \n",
    "    def agregar_producto (self, nombre, precio, cantidad): #1. agregar_producto (self_nombre)\n",
    "        for producto in self.inventario:\n",
    "            if producto[\"nombre\"] == nombre:\n",
    "                producto[\"cantidad\"] += cantidad\n",
    "                return f\"cantidadd actualizada {self.inventario}\"\n",
    "            else:\n",
    "                self.inventario.append({\"nombre\":nombre, \"cantidad\":cantidad, \"precio\": precio})\n",
    "    \n",
    "    \n",
    "    def ver_inventario (self):  #2. ver_inventario(self): Muestra el inventario de productos con sus detalles\n",
    "      for ropa in self.inventario:\n",
    "        nombre = ropa[\"nombre\"]\n",
    "        precio = ropa[\"precio\"]\n",
    "        cantidad = ropa[\"cantidad\"]\n",
    "        print (f\"Nombre: {nombre}, Precio: ${precio}, Cantidad:{cantidad}\")\n",
    "\n",
    "    def buscar_producto (self, nombre): #3.Busca un producto en el inventario por nombre y muestra sus detalles si se encuentra\n",
    "        for nombre in self.inventario.items():\n",
    "           print(f\"Nombre: {nombre}, Precio: ${precio}, Cantidad:{cantidad}\")\n",
    "        \n",
    "    def actualizar_stock (self, nombre, cantidad): #4 Actualiza stock de un porducto en el inventario.\n",
    "        for nombre in self.inventario:\n",
    "          \n",
    "            \n",
    "    def eliminar_producto(self, nombre):  #5.Elimina un producto del inventario por nombre\n",
    "    \n",
    "    \n",
    "    \n",
    "    def calcular_valor_inventario(self):  #6. Calcula y muestra el valor total del inventario\n",
    "    \n",
    "    \n",
    "    \n",
    "    def realizar_compra (self):  #7. Permite a un cliente realizar una compra seleccionando producto del inventario. Debe interactuar con el cliente para seleccionar  productos y calcular el costo total de la compra\n",
    "            \n",
    "\n",
    "\n",
    "mi_tiendaonline = TiendaOnline()\n",
    "mi_tiendaonline.agregar_producto (\"Camisa\",20, 50)\n",
    "mi_tiendaonline.agregar_producto  (\"Pantalón\", 30 , 30)\n",
    "mi_tiendaonline.agregar_producto (\"Zapatos\", 50, 30) \n",
    "print(f\"mi_tiendaonline.agregar_producto\")\n",
    "\n",
    "#Ejercicio 2 ver_producto\n",
    "\n",
    "mi_tiendaonline.ver_inventario (\"Camisa\",20, 50)\n",
    "mi_tiendaonline.ver_inventario  (\"Pantalón\", 30 , 30)\n",
    "mi_tiendaonline.ver_inventario (\"Zapatos\", 50, 40) \n",
    "mi_tiendaonline.ver_inventario (\"Camisa\",20, 50)\n",
    "\n",
    "#Ejercicio 3 buscar_producto\n",
    "\n",
    "mi_tiendaonline.buscar_producto (\"Camisa\",20, 40)   "
   ]
  }
 ],
 "metadata": {
  "kernelspec": {
   "display_name": "Python 3",
   "language": "python",
   "name": "python3"
  },
  "language_info": {
   "codemirror_mode": {
    "name": "ipython",
    "version": 3
   },
   "file_extension": ".py",
   "mimetype": "text/x-python",
   "name": "python",
   "nbconvert_exporter": "python",
   "pygments_lexer": "ipython3",
   "version": "3.11.9"
  }
 },
 "nbformat": 4,
 "nbformat_minor": 2
}
